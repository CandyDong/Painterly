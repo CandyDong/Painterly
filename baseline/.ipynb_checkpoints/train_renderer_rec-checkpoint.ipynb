{
 "cells": [
  {
   "cell_type": "code",
   "execution_count": 1,
   "metadata": {},
   "outputs": [],
   "source": [
    "import cv2\n",
    "import torch\n",
    "import numpy as np\n"
   ]
  },
  {
   "cell_type": "code",
   "execution_count": null,
   "metadata": {},
   "outputs": [],
   "source": []
  },
  {
   "cell_type": "code",
   "execution_count": null,
   "metadata": {},
   "outputs": [],
   "source": [
    "import torch.nn as nn\n",
    "import torch.nn.functional as F\n",
    "from utils.tensorboard import TensorBoard\n",
    "from Renderer.model import FCN\n",
    "from Renderer.stroke_gen import *"
   ]
  },
  {
   "cell_type": "code",
   "execution_count": null,
   "metadata": {},
   "outputs": [],
   "source": [
    "writer = TensorBoard(\"../train_log/\")\n",
    "import torch.optim as optim\n",
    "\n",
    "criterion = nn.MSELoss()\n",
    "net = FCN()\n",
    "optimizer = optim.Adam(net.parameters(), lr=3e-6)\n",
    "batch_size = 64\n",
    "\n",
    "use_cuda = torch.cuda.is_available()\n",
    "step = 0"
   ]
  },
  {
   "cell_type": "code",
   "execution_count": null,
   "metadata": {},
   "outputs": [],
   "source": []
  },
  {
   "cell_type": "code",
   "execution_count": null,
   "metadata": {},
   "outputs": [],
   "source": [
    "def save_model():\n",
    "    if use_cuda:\n",
    "        net.cpu()\n",
    "    torch.save(net.state_dict(), \"./model/renderer_rec.pkl\")\n",
    "    if use_cuda:\n",
    "        net.cuda()\n",
    "\n",
    "\n",
    "def load_weights():\n",
    "    pretrained_dict = torch.load(\"./model/renderer_rec.pkl\")\n",
    "    model_dict = net.state_dict()\n",
    "    pretrained_dict = {k: v for k, v in pretrained_dict.items() if k in model_dict}\n",
    "    model_dict.update(pretrained_dict)\n",
    "    net.load_state_dict(model_dict)\n",
    "\n",
    "\n",
    "# load_weights()\n",
    "# 500000\n",
    "while step < 50000:\n",
    "    net.train()\n",
    "    train_batch = []\n",
    "    ground_truth = []\n",
    "    for i in range(batch_size):\n",
    "        f = np.random.uniform(0, 1, 10)\n",
    "        train_batch.append(f)\n",
    "        ground_truth.append(draw_rec(f))\n",
    "\n",
    "    train_batch = torch.tensor(train_batch).float()\n",
    "    ground_truth = torch.tensor(ground_truth).float()\n",
    "    if use_cuda:\n",
    "        net = net.cuda()\n",
    "        train_batch = train_batch.cuda()\n",
    "        ground_truth = ground_truth.cuda()\n",
    "    gen = net(train_batch)\n",
    "    optimizer.zero_grad()\n",
    "    loss = criterion(gen, ground_truth)\n",
    "    loss.backward()\n",
    "    optimizer.step()\n",
    "    print(step, loss.item())\n",
    "#     if step < 200000:\n",
    "#         lr = 1e-4\n",
    "#     elif step < 400000:\n",
    "#         lr = 1e-5\n",
    "#     else:\n",
    "#         lr = 1e-6\n",
    "    if step < 20000:\n",
    "        lr = 1e-4\n",
    "    elif step < 40000:\n",
    "        lr = 1e-5\n",
    "    else:\n",
    "        lr = 1e-6\n",
    "    for param_group in optimizer.param_groups:\n",
    "        param_group[\"lr\"] = lr\n",
    "    writer.add_scalar(\"train/loss\", loss.item(), step)\n",
    "    if step % 10 == 0:\n",
    "        net.eval()\n",
    "        gen = net(train_batch)\n",
    "        loss = criterion(gen, ground_truth)\n",
    "        writer.add_scalar(\"val/loss\", loss.item(), step)\n",
    "        for i in range(32):\n",
    "            G = gen[i].cpu().data.numpy()\n",
    "            GT = ground_truth[i].cpu().data.numpy()\n",
    "            writer.add_image(\"train/gen{}.png\".format(i), G, step)\n",
    "            writer.add_image(\"train/ground_truth{}.png\".format(i), GT, step)\n",
    "    if step % 100 == 0:\n",
    "        save_model()\n",
    "    step += 1"
   ]
  },
  {
   "cell_type": "code",
   "execution_count": null,
   "metadata": {},
   "outputs": [],
   "source": []
  }
 ],
 "metadata": {
  "kernelspec": {
   "display_name": "Environment (conda_pytorch_p36)",
   "language": "python",
   "name": "conda_pytorch_p36"
  },
  "language_info": {
   "codemirror_mode": {
    "name": "ipython",
    "version": 3
   },
   "file_extension": ".py",
   "mimetype": "text/x-python",
   "name": "python",
   "nbconvert_exporter": "python",
   "pygments_lexer": "ipython3",
   "version": "3.6.5"
  }
 },
 "nbformat": 4,
 "nbformat_minor": 2
}
